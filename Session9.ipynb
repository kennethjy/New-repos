{
 "cells": [
  {
   "cell_type": "code",
   "execution_count": 3,
   "id": "0fc79d38",
   "metadata": {},
   "outputs": [
    {
     "name": "stdout",
     "output_type": "stream",
     "text": [
      "25\n"
     ]
    }
   ],
   "source": [
    "def game_with_cells(x,y):\n",
    "    return (x - x//2) * (y - y//2)\n",
    "print(game_with_cells(9,9))"
   ]
  },
  {
   "cell_type": "code",
   "execution_count": 8,
   "id": "734b98c9",
   "metadata": {},
   "outputs": [
    {
     "name": "stdout",
     "output_type": "stream",
     "text": [
      "This is a secret\n"
     ]
    }
   ],
   "source": [
    "def decrypt_caesar_cipher(string, shift):\n",
    "    newstring = \"\"\n",
    "    for i in string:\n",
    "        if ord(i) != 32:\n",
    "            if ord(i) < 65 + shift or 97 <= ord(i) < 97 + shift:\n",
    "                newstring += chr(ord(i) - shift + 26)\n",
    "            else:\n",
    "                newstring += chr(ord(i) - shift)\n",
    "        else:\n",
    "            newstring += i\n",
    "    return newstring\n",
    "\n",
    "print(decrypt_caesar_cipher(\"Aopz pz h zljyla\", 7))"
   ]
  },
  {
   "cell_type": "code",
   "execution_count": null,
   "id": "d79de762",
   "metadata": {},
   "outputs": [],
   "source": []
  }
 ],
 "metadata": {
  "kernelspec": {
   "display_name": "Python 3 (ipykernel)",
   "language": "python",
   "name": "python3"
  },
  "language_info": {
   "codemirror_mode": {
    "name": "ipython",
    "version": 3
   },
   "file_extension": ".py",
   "mimetype": "text/x-python",
   "name": "python",
   "nbconvert_exporter": "python",
   "pygments_lexer": "ipython3",
   "version": "3.8.6"
  }
 },
 "nbformat": 4,
 "nbformat_minor": 5
}
