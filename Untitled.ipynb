{
 "cells": [
  {
   "cell_type": "code",
   "execution_count": 1,
   "id": "7328fdf8",
   "metadata": {},
   "outputs": [
    {
     "name": "stdout",
     "output_type": "stream",
     "text": [
      "Enter amount of bill: 100\n",
      "Enter amount of people: 2\n",
      "Enter amount of tips (%): 10\n",
      "Tip amount per person $5.0 \n",
      "Total amount per person $ 55.0\n"
     ]
    }
   ],
   "source": [
    "x = int(input(\"Enter amount of bill: \"))\n",
    "y = int(input(\"Enter amount of people: \"))\n",
    "z = int(input(\"Enter amount of tips (%): \"))\n",
    "print(\"Tip amount per person $\" + str(x * (z / 100) / y) , \"\\nTotal amount per person $\", str(x * (z + 100) / 100 / y))"
   ]
  },
  {
   "cell_type": "code",
   "execution_count": 2,
   "id": "f65f09d9",
   "metadata": {},
   "outputs": [
    {
     "name": "stdout",
     "output_type": "stream",
     "text": [
      "Enter time in seconds: 1000\n",
      "0:16:40\n"
     ]
    }
   ],
   "source": [
    "t = int(input(\"Enter time in seconds: \"))\n",
    "print(\"result: \"+ str(t//3600) + \":\" + str((t//60) % 60) + \":\" + str(t%60))"
   ]
  },
  {
   "cell_type": "code",
   "execution_count": null,
   "id": "4d42ce1d",
   "metadata": {},
   "outputs": [],
   "source": []
  }
 ],
 "metadata": {
  "kernelspec": {
   "display_name": "Python 3 (ipykernel)",
   "language": "python",
   "name": "python3"
  },
  "language_info": {
   "codemirror_mode": {
    "name": "ipython",
    "version": 3
   },
   "file_extension": ".py",
   "mimetype": "text/x-python",
   "name": "python",
   "nbconvert_exporter": "python",
   "pygments_lexer": "ipython3",
   "version": "3.8.6"
  }
 },
 "nbformat": 4,
 "nbformat_minor": 5
}
