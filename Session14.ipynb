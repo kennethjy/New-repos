{
 "cells": [
  {
   "cell_type": "code",
   "execution_count": 1,
   "id": "7b436bf0",
   "metadata": {},
   "outputs": [
    {
     "name": "stdout",
     "output_type": "stream",
     "text": [
      "Transaction Complete\n",
      "Transaction Complete\n",
      "Transaction Complete\n",
      "Transaction Failed\n",
      "Transaction Complete\n"
     ]
    }
   ],
   "source": [
    "class BankAccount:\n",
    "\n",
    "    def __init__(self, start):\n",
    "        self.__balance = start\n",
    "\n",
    "    def get_balance(self):\n",
    "        return self.__balance\n",
    "\n",
    "    def deposit(self, amt):\n",
    "        self.__balance += amt\n",
    "        return True\n",
    "\n",
    "    def pay(self, amt):\n",
    "        if self.get_balance() < amt:\n",
    "            return False\n",
    "        else:\n",
    "            self.__balance -= amt\n",
    "            return True\n",
    "\n",
    "\n",
    "class User:\n",
    "\n",
    "    def __init__(self, username, start):\n",
    "        self.__username = username\n",
    "        self.__bank_account = BankAccount(start)\n",
    "\n",
    "    def get_balance(self):\n",
    "        return self.__bank_account.get_balance()\n",
    "\n",
    "    def deposit(self, amt):\n",
    "        return self.__bank_account.deposit(amt)\n",
    "\n",
    "    def pay(self, amt):\n",
    "        return self.__bank_account.pay(amt)\n",
    "\n",
    "\n",
    "def transaction(item, user):\n",
    "    return \"Transaction Complete\" if user.pay(item) else \"Transaction Failed\"\n",
    "\n",
    "\n",
    "restaurant = {\n",
    "    \"burger\": 10,\n",
    "    \"soft_drink\": 5\n",
    "}\n",
    "bookstore = {\n",
    "    \"comic\": 10,\n",
    "    \"magazine\": 7,\n",
    "    \"textbook\": 50\n",
    "}\n",
    "john = User(\"John\", 50)\n",
    "print(transaction(restaurant[\"burger\"], john))\n",
    "print(transaction(restaurant[\"soft_drink\"], john))\n",
    "print(transaction(bookstore[\"comic\"], john))\n",
    "print(transaction(bookstore[\"textbook\"], john))\n",
    "john.deposit(50)\n",
    "print(transaction(bookstore[\"textbook\"], john))\n"
   ]
  },
  {
   "cell_type": "code",
   "execution_count": null,
   "id": "7ba5e74b",
   "metadata": {},
   "outputs": [],
   "source": []
  }
 ],
 "metadata": {
  "kernelspec": {
   "display_name": "Python 3 (ipykernel)",
   "language": "python",
   "name": "python3"
  },
  "language_info": {
   "codemirror_mode": {
    "name": "ipython",
    "version": 3
   },
   "file_extension": ".py",
   "mimetype": "text/x-python",
   "name": "python",
   "nbconvert_exporter": "python",
   "pygments_lexer": "ipython3",
   "version": "3.8.6"
  }
 },
 "nbformat": 4,
 "nbformat_minor": 5
}
