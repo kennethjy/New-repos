{
 "cells": [
  {
   "cell_type": "code",
   "execution_count": 2,
   "id": "b20a0957",
   "metadata": {},
   "outputs": [
    {
     "name": "stdout",
     "output_type": "stream",
     "text": [
      "Enter a sentence in english: My favorite subject is Algorithm and Programming\n",
      "Pig latin: Ymay avoritefay ubjectsay isyay Algorithmyay andyay Ogrammingpray \n"
     ]
    }
   ],
   "source": [
    "en = input(\"Enter a sentence in english: \")\n",
    "en = en.split()\n",
    "pig = \"\"\n",
    "for word in en:\n",
    "    after = \"\"\n",
    "    uppercase = False\n",
    "    if word[0].isupper():\n",
    "        uppercase = True\n",
    "    while len(word) > 1 and word[0].lower() not in ('a', 'e', 'i', 'o', 'u'):\n",
    "        after += word[0].lower()\n",
    "        word = word[1:]\n",
    "    if after == \"\":\n",
    "        word += \"y\"\n",
    "    word += after + \"ay\"\n",
    "    if uppercase:\n",
    "        word = word[0].upper() + word[1:]\n",
    "    pig += word + \" \"\n",
    "print(\"Pig latin:\", pig)"
   ]
  },
  {
   "cell_type": "code",
   "execution_count": null,
   "id": "108f836c",
   "metadata": {},
   "outputs": [],
   "source": []
  }
 ],
 "metadata": {
  "kernelspec": {
   "display_name": "Python 3 (ipykernel)",
   "language": "python",
   "name": "python3"
  },
  "language_info": {
   "codemirror_mode": {
    "name": "ipython",
    "version": 3
   },
   "file_extension": ".py",
   "mimetype": "text/x-python",
   "name": "python",
   "nbconvert_exporter": "python",
   "pygments_lexer": "ipython3",
   "version": "3.8.6"
  }
 },
 "nbformat": 4,
 "nbformat_minor": 5
}
