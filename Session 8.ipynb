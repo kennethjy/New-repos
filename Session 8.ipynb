{
 "cells": [
  {
   "cell_type": "code",
   "execution_count": 2,
   "id": "de72677e",
   "metadata": {},
   "outputs": [
    {
     "name": "stdout",
     "output_type": "stream",
     "text": [
      "Enter a sentence in english: My favorite subject is Algorithm and Programming\n",
      "Pig latin: Ymay avoritefay ubjectsay isyay Algorithmyay andyay Ogrammingpray \n"
     ]
    }
   ],
   "source": [
    "en = input(\"Enter a sentence in english: \")\n",
    "en = en.split()\n",
    "pig = \"\"\n",
    "for word in en:\n",
    "    after = \"\"\n",
    "    uppercase = False\n",
    "    if word[0].isupper():\n",
    "        uppercase = True\n",
    "    while len(word) > 1 and word[0].lower() not in ('a', 'e', 'i', 'o', 'u'):\n",
    "        after += word[0].lower()\n",
    "        word = word[1:]\n",
    "    if after == \"\":\n",
    "        word += \"y\"\n",
    "    word += after + \"ay\"\n",
    "    if uppercase:\n",
    "        word = word[0].upper() + word[1:]\n",
    "    pig += word + \" \"\n",
    "print(\"Pig latin:\", pig)"
   ]
  },
  {
   "cell_type": "code",
   "execution_count": 3,
   "id": "7ad71d73",
   "metadata": {},
   "outputs": [
    {
     "name": "stdout",
     "output_type": "stream",
     "text": [
      "Please select a coordinate : A1\n",
      "['A8', 'B8', 'C8', 'D8', 'E8', 'F8', 'G8', 'H8']\n",
      "['A7', 'B7', 'C7', 'D7', 'E7', 'F7', 'G7', 'H7']\n",
      "['A6', 'B6', 'C6', 'D6', 'E6', 'F6', 'G6', 'H6']\n",
      "['A5', 'B5', 'C5', 'D5', 'E5', 'F5', 'G5', 'H5']\n",
      "['A4', 'B4', 'C4', 'D4', 'E4', 'F4', 'G4', 'H4']\n",
      "['A3', 'XX', 'C3', 'D3', 'E3', 'F3', 'G3', 'H3']\n",
      "['A2', 'B2', 'XX', 'D2', 'E2', 'F2', 'G2', 'H2']\n",
      "['KN', 'B1', 'C1', 'D1', 'E1', 'F1', 'G1', 'H1']\n"
     ]
    }
   ],
   "source": [
    "empty = [[\"\" for i in range(8)] for i in range(8)]\n",
    "alphabet = [\"A\", \"B\", \"C\", \"D\", \"E\", \"F\", \"G\", \"H\"]\n",
    "for i in range(8):\n",
    "    for j in range(8):\n",
    "        empty[j][i] = alphabet[i] + str(8 - j)\n",
    "\n",
    "coord = input(\"Please select a coordinate : \")\n",
    "i = alphabet.index(coord[0])\n",
    "j = 8 - int(coord[1])\n",
    "\n",
    "empty[j][i] = \"KN\"\n",
    "if j + 1 <= 7:\n",
    "    if i + 2 <= 7:\n",
    "        empty[j + 1][i + 2] = \"XX\"\n",
    "    if 0 <= i - 2:\n",
    "        empty[j + 1][i - 2] = \"XX\"\n",
    "    if j + 2 <= 7:\n",
    "        if i + 1 <= 7:\n",
    "            empty[j + 2][i + 1] = \"XX\"\n",
    "        if 0 <= i - 1:\n",
    "            empty[j + 2][i - 1] = \"XX\"\n",
    "if 0 <= j - 1:\n",
    "    if i + 2 <= 7:\n",
    "        empty[j - 1][i + 2] = \"XX\"\n",
    "    if 0 <= i - 1:\n",
    "        empty[j - 1][i - 2] = \"XX\"\n",
    "    if 0 <= j - 2:\n",
    "        if i + 1 <= 7:\n",
    "            empty[j - 2][i + 1] = \"XX\"\n",
    "        if 0 <= i - 1:\n",
    "            empty[j - 2][i - 1] = \"XX\"\n",
    "\n",
    "for i in empty:\n",
    "    print(i)"
   ]
  },
  {
   "cell_type": "code",
   "execution_count": null,
   "id": "71fff38e",
   "metadata": {},
   "outputs": [],
   "source": []
  }
 ],
 "metadata": {
  "kernelspec": {
   "display_name": "Python 3 (ipykernel)",
   "language": "python",
   "name": "python3"
  },
  "language_info": {
   "codemirror_mode": {
    "name": "ipython",
    "version": 3
   },
   "file_extension": ".py",
   "mimetype": "text/x-python",
   "name": "python",
   "nbconvert_exporter": "python",
   "pygments_lexer": "ipython3",
   "version": "3.8.6"
  }
 },
 "nbformat": 4,
 "nbformat_minor": 5
}
