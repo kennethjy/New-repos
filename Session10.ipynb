{
 "cells": [
  {
   "cell_type": "code",
   "execution_count": 11,
   "id": "41a25aa8",
   "metadata": {},
   "outputs": [
    {
     "name": "stdout",
     "output_type": "stream",
     "text": [
      "[20000, 20000, 5000, 2000, 2000, 500, 200, 100] Rp.49,800\n"
     ]
    }
   ],
   "source": [
    "regis = [100000, 50000, 20000, 10000, 5000, 2000, 1000, 500, 200, 100]\n",
    "\n",
    "def cash_register(bill, paid):\n",
    "    change = (paid - bill) // 100 * 100\n",
    "    bills_returned = []\n",
    "    count = 0\n",
    "    while change >= 0 and count < len(regis):\n",
    "        if change >= regis[count]:\n",
    "            bills_returned.append(regis[count])\n",
    "            change -= regis[count]\n",
    "        else:\n",
    "            count += 1\n",
    "    return bills_returned\n",
    "\n",
    "print(cash_register(200200, 250_000), f\"Rp.{sum(cash_register(200200, 250000)):,}\")"
   ]
  },
  {
   "cell_type": "code",
   "execution_count": 21,
   "id": "38a47231",
   "metadata": {},
   "outputs": [
    {
     "name": "stdout",
     "output_type": "stream",
     "text": [
      "True\n"
     ]
    }
   ],
   "source": [
    "import math\n",
    "def isprime(n):\n",
    "    nums = [i for i in range(2, round(n ** 0.5))]\n",
    "    count = 0\n",
    "    flag = True\n",
    "    while count < len(nums) - 1:\n",
    "        if n % nums[count] == 0:\n",
    "            flag = False\n",
    "            break\n",
    "        for i in range(2, math.floor(math.log(nums[len(nums) - 1], nums[count]))):\n",
    "                nums.remove(nums[count] ** i)\n",
    "        count += 1\n",
    "    return flag\n",
    "print(isprime(7517))"
   ]
  },
  {
   "cell_type": "code",
   "execution_count": null,
   "id": "0d02e7b6",
   "metadata": {},
   "outputs": [],
   "source": []
  }
 ],
 "metadata": {
  "kernelspec": {
   "display_name": "Python 3 (ipykernel)",
   "language": "python",
   "name": "python3"
  },
  "language_info": {
   "codemirror_mode": {
    "name": "ipython",
    "version": 3
   },
   "file_extension": ".py",
   "mimetype": "text/x-python",
   "name": "python",
   "nbconvert_exporter": "python",
   "pygments_lexer": "ipython3",
   "version": "3.8.6"
  }
 },
 "nbformat": 4,
 "nbformat_minor": 5
}
