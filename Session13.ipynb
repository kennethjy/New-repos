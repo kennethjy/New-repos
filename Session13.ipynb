{
 "cells": [
  {
   "cell_type": "code",
   "execution_count": 3,
   "id": "898d8463",
   "metadata": {},
   "outputs": [
    {
     "name": "stdout",
     "output_type": "stream",
     "text": [
      "20\n",
      "16\n",
      "60.8\n",
      "289.15\n",
      "Celcius: 16, Fahrenheit: 60.8, Kelvin: 289.15\n"
     ]
    }
   ],
   "source": [
    "class Temperature:\n",
    "    \n",
    "    def __init__(self, celsius):\n",
    "        self.__celsius = celsius\n",
    "    \n",
    "    def to_celsius(self):\n",
    "        return self.__celsius\n",
    "    \n",
    "    def to_fahrenheit(self):\n",
    "        return (self.__celsius * 9 / 5) + 32\n",
    "    \n",
    "    def to_kelvin(self):\n",
    "        return self.__celsius +  273.15\n",
    "    \n",
    "    def set_temperature(self, celsius):\n",
    "        if celsius >= -273.15:\n",
    "            self.__celsius = celsius\n",
    "    \n",
    "    def __str__(self):\n",
    "        return \"Celcius: \" + str(self.to_celsius()) + \", Fahrenheit: \" + \\\n",
    "        str(self.to_fahrenheit()) + \", Kelvin: \" + str(self.to_kelvin())\n",
    "\n",
    "    \n",
    "room_temperature = Temperature(20)\n",
    "room_temperature.set_temperature(-300)\n",
    "print(room_temperature.to_celsius())\n",
    "room_temperature.set_temperature(16)\n",
    "print(room_temperature.to_celsius())\n",
    "print(room_temperature.to_fahrenheit())\n",
    "print(room_temperature.to_kelvin())\n",
    "print(str(room_temperature))"
   ]
  },
  {
   "cell_type": "code",
   "execution_count": 9,
   "id": "67a3740f",
   "metadata": {},
   "outputs": [
    {
     "name": "stdout",
     "output_type": "stream",
     "text": [
      "zero\n",
      "0\n",
      "9\n"
     ]
    }
   ],
   "source": [
    "class Array:\n",
    "    \n",
    "    def __init__(self, array):\n",
    "        self.__array = array\n",
    "        \n",
    "    def get(self, index):\n",
    "        return self.__array[index]\n",
    "    \n",
    "    def append(self, value):\n",
    "        self.__array.append(value)\n",
    "        \n",
    "    def pop(self):\n",
    "        self.__array.pop()\n",
    "        \n",
    "    def extend(self, array):\n",
    "        self.__array += array\n",
    "        \n",
    "    def insert(self, index, value):\n",
    "        if index == self.length():\n",
    "            self.append(value)\n",
    "        if index < self.length():\n",
    "            self.__array[index] = value\n",
    "        else:\n",
    "            print(\"index out of range\")\n",
    "        \n",
    "    def index(self, value):\n",
    "        return self.__array.index(value)\n",
    "    \n",
    "    def length(self):\n",
    "        return len(self.__array)\n",
    "\n",
    "arr = Array([\"zero\", \"one\", \"two\", \"three\", \"four\"])\n",
    "print(arr.get(0))\n",
    "arr.append(\"five\")\n",
    "arr.pop()\n",
    "arr.extend([\"five\", \"six\", \"seven\"])\n",
    "arr.insert(8, \"eight\") \n",
    "print(arr.index(\"zero\"))\n",
    "print(arr.length())\n",
    "    "
   ]
  },
  {
   "cell_type": "code",
   "execution_count": null,
   "id": "28935daa",
   "metadata": {},
   "outputs": [],
   "source": []
  }
 ],
 "metadata": {
  "kernelspec": {
   "display_name": "Python 3 (ipykernel)",
   "language": "python",
   "name": "python3"
  },
  "language_info": {
   "codemirror_mode": {
    "name": "ipython",
    "version": 3
   },
   "file_extension": ".py",
   "mimetype": "text/x-python",
   "name": "python",
   "nbconvert_exporter": "python",
   "pygments_lexer": "ipython3",
   "version": "3.8.6"
  }
 },
 "nbformat": 4,
 "nbformat_minor": 5
}
