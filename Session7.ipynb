{
 "cells": [
  {
   "cell_type": "code",
   "execution_count": 9,
   "id": "51be5940",
   "metadata": {},
   "outputs": [
    {
     "name": "stdout",
     "output_type": "stream",
     "text": [
      "Please enter a matrix: [[1, 2, 3], [4, 5, 6], [7, 8, 9]]\n",
      "Original matrix:\n",
      "[1, 2, 3]\n",
      "[4, 5, 6]\n",
      "[7, 8, 9]\n",
      "Transposed matrix:\n",
      "[1, 4, 7]\n",
      "[2, 5, 8]\n",
      "[3, 6, 9]\n"
     ]
    }
   ],
   "source": [
    "matrix = eval(input(\"Please enter a matrix: \"))\n",
    "new_matrix = []\n",
    "for i in range(len(matrix[0])):\n",
    "    temp = []\n",
    "    for j in matrix:\n",
    "        temp.append(j[i])\n",
    "    new_matrix.append(temp)\n",
    "print(\"Original matrix:\")\n",
    "for a in matrix:\n",
    "    print(a)\n",
    "print(\"Transposed matrix:\")\n",
    "for a in new_matrix:\n",
    "    print(a)\n"
   ]
  },
  {
   "cell_type": "code",
   "execution_count": null,
   "id": "ea08a067",
   "metadata": {},
   "outputs": [],
   "source": []
  }
 ],
 "metadata": {
  "kernelspec": {
   "display_name": "Python 3 (ipykernel)",
   "language": "python",
   "name": "python3"
  },
  "language_info": {
   "codemirror_mode": {
    "name": "ipython",
    "version": 3
   },
   "file_extension": ".py",
   "mimetype": "text/x-python",
   "name": "python",
   "nbconvert_exporter": "python",
   "pygments_lexer": "ipython3",
   "version": "3.8.6"
  }
 },
 "nbformat": 4,
 "nbformat_minor": 5
}
