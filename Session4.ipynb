{
 "cells": [
  {
   "cell_type": "code",
   "execution_count": 1,
   "id": "3a2c271e",
   "metadata": {},
   "outputs": [
    {
     "name": "stdout",
     "output_type": "stream",
     "text": [
      "Enter the point px: 6\n",
      "Enter the point py: -8\n",
      "Enter the point qx: 1\n",
      "Enter the point qy: 2\n",
      "The point r = (-4, 12)\n"
     ]
    }
   ],
   "source": [
    "# Exercise 5\n",
    "px = int(input(\"Enter the point px: \"))\n",
    "py = int(input(\"Enter the point py: \"))\n",
    "qx = int(input(\"Enter the point qx: \"))\n",
    "qy = int(input(\"Enter the point qy: \"))\n",
    "print(\"The point r = (\", (2 * qx) - px, \", \", (2 * qy) - py, \")\", sep=\"\")"
   ]
  },
  {
   "cell_type": "code",
   "execution_count": 3,
   "id": "5d8e0333",
   "metadata": {},
   "outputs": [
    {
     "name": "stdout",
     "output_type": "stream",
     "text": [
      "Enter burger selling price: 275\n",
      "Enter cola selling price: 214\n",
      "Enter combo meal selling price: 420\n",
      "The fixed price is $69.00\n"
     ]
    }
   ],
   "source": [
    "# Exercise 6\n",
    "f = int(input(\"Enter burger selling price: \"))\n",
    "d = int(input(\"Enter cola selling price: \"))\n",
    "c = int(input(\"Enter combo meal selling price: \"))\n",
    "print(\"The fixed price is $\", \"%.2f\" % round(float(f + d - c), 2), sep=\"\")"
   ]
  },
  {
   "cell_type": "code",
   "execution_count": null,
   "id": "ed085c16",
   "metadata": {},
   "outputs": [],
   "source": []
  }
 ],
 "metadata": {
  "kernelspec": {
   "display_name": "Python 3 (ipykernel)",
   "language": "python",
   "name": "python3"
  },
  "language_info": {
   "codemirror_mode": {
    "name": "ipython",
    "version": 3
   },
   "file_extension": ".py",
   "mimetype": "text/x-python",
   "name": "python",
   "nbconvert_exporter": "python",
   "pygments_lexer": "ipython3",
   "version": "3.8.6"
  }
 },
 "nbformat": 4,
 "nbformat_minor": 5
}
